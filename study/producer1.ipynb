{
 "cells": [
  {
   "cell_type": "markdown",
   "metadata": {},
   "source": [
    "# Importing necessary modules"
   ]
  },
  {
   "cell_type": "code",
   "execution_count": 1,
   "metadata": {},
   "outputs": [],
   "source": [
    "from time import sleep\n",
    "from kafka import KafkaProducer\n",
    "from alpha_vantage.timeseries import TimeSeries\n",
    "import random\n",
    "import json\n"
   ]
  },
  {
   "cell_type": "markdown",
   "metadata": {},
   "source": [
    "# Function to get live data from alpha_vantage"
   ]
  },
  {
   "cell_type": "code",
   "execution_count": 2,
   "metadata": {},
   "outputs": [],
   "source": [
    "def get_data():\n",
    "    ticker = 'GOOGL'\n",
    "    lines = open('alpha_key').read().splitlines()\n",
    "    keys = random.choice(lines)\n",
    "    time = TimeSeries(key=keys,output_format='json')\n",
    "    data , metadata = time.get_intraday(symbol= ticker,interval='1min',outputsize='full')\n",
    "    return data"
   ]
  },
  {
   "cell_type": "markdown",
   "metadata": {},
   "source": [
    "# Function to publish a message "
   ]
  },
  {
   "cell_type": "code",
   "execution_count": 3,
   "metadata": {},
   "outputs": [],
   "source": [
    "def publish_message(producerkey,key,data_key):\n",
    "    try:\n",
    "        from json import dumps\n",
    "        key_bytes = bytes(key, encoding='utf-8')\n",
    "        producerkey.send(\"stock\",json.dumps(data[key]).encode('utf-8'),key_bytes)\n",
    "        print(\"message published\")\n",
    "    except:\n",
    "        print(\"message not published\")"
   ]
  },
  {
   "cell_type": "code",
   "execution_count": null,
   "metadata": {},
   "outputs": [],
   "source": [
    "def kafka_producer_connection():\n",
    "    producer = KafkaProducer(bootstrap_servers=['localhost:9092'])\n",
    "    return producer\n",
    "\n",
    "\n",
    "if __name__==\"__main__\":\n",
    "    data = get_data()\n",
    "    if len(data) > 0:\n",
    "        kafka_producer = kafka_producer_connection()\n",
    "        for key in sorted(data):\n",
    "            publish_message( kafka_producer,key, data[key])\n",
    "            sleep(3)"
   ]
  },
  {
   "cell_type": "code",
   "execution_count": null,
   "metadata": {},
   "outputs": [],
   "source": []
  }
 ],
 "metadata": {
  "kernelspec": {
   "display_name": "Python 3",
   "language": "python",
   "name": "python3"
  },
  "language_info": {
   "codemirror_mode": {
    "name": "ipython",
    "version": 3
   },
   "file_extension": ".py",
   "mimetype": "text/x-python",
   "name": "python",
   "nbconvert_exporter": "python",
   "pygments_lexer": "ipython3",
   "version": "3.6.9"
  }
 },
 "nbformat": 4,
 "nbformat_minor": 4
}
