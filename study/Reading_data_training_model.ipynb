{
 "cells": [
  {
   "cell_type": "code",
   "execution_count": 63,
   "metadata": {},
   "outputs": [],
   "source": [
    "#Importing modules\n",
    "\n",
    "import boto3\n",
    "import pandas as pd"
   ]
  },
  {
   "cell_type": "code",
   "execution_count": null,
   "metadata": {},
   "outputs": [],
   "source": []
  },
  {
   "cell_type": "code",
   "execution_count": 64,
   "metadata": {},
   "outputs": [],
   "source": [
    "#creating client obj for s3\n",
    "\n",
    "client=boto3.client('s3')"
   ]
  },
  {
   "cell_type": "code",
   "execution_count": 65,
   "metadata": {},
   "outputs": [],
   "source": [
    "path = 's3://phani06062020/stockData1.csv'"
   ]
  },
  {
   "cell_type": "code",
   "execution_count": 66,
   "metadata": {},
   "outputs": [],
   "source": [
    "df = pd.read_csv(path)"
   ]
  },
  {
   "cell_type": "code",
   "execution_count": 5,
   "metadata": {},
   "outputs": [
    {
     "data": {
      "text/html": [
       "<div>\n",
       "<style scoped>\n",
       "    .dataframe tbody tr th:only-of-type {\n",
       "        vertical-align: middle;\n",
       "    }\n",
       "\n",
       "    .dataframe tbody tr th {\n",
       "        vertical-align: top;\n",
       "    }\n",
       "\n",
       "    .dataframe thead th {\n",
       "        text-align: right;\n",
       "    }\n",
       "</style>\n",
       "<table border=\"1\" class=\"dataframe\">\n",
       "  <thead>\n",
       "    <tr style=\"text-align: right;\">\n",
       "      <th></th>\n",
       "      <th>Date</th>\n",
       "      <th>Close/Last</th>\n",
       "      <th>Volume</th>\n",
       "      <th>Open</th>\n",
       "      <th>High</th>\n",
       "      <th>Low</th>\n",
       "    </tr>\n",
       "  </thead>\n",
       "  <tbody>\n",
       "    <tr>\n",
       "      <th>0</th>\n",
       "      <td>06-01-20</td>\n",
       "      <td>$1,431.82</td>\n",
       "      <td>1217140</td>\n",
       "      <td>$1,418.39</td>\n",
       "      <td>$1,437.96</td>\n",
       "      <td>$1,418</td>\n",
       "    </tr>\n",
       "    <tr>\n",
       "      <th>1</th>\n",
       "      <td>05/29/2020</td>\n",
       "      <td>$1,428.92</td>\n",
       "      <td>1838059</td>\n",
       "      <td>$1,416.94</td>\n",
       "      <td>$1,432.57</td>\n",
       "      <td>$1,413.35</td>\n",
       "    </tr>\n",
       "    <tr>\n",
       "      <th>2</th>\n",
       "      <td>05/28/2020</td>\n",
       "      <td>$1,416.73</td>\n",
       "      <td>1693976</td>\n",
       "      <td>$1,396.86</td>\n",
       "      <td>$1,440.84</td>\n",
       "      <td>$1,396</td>\n",
       "    </tr>\n",
       "    <tr>\n",
       "      <th>3</th>\n",
       "      <td>05/27/2020</td>\n",
       "      <td>$1,417.84</td>\n",
       "      <td>1686142</td>\n",
       "      <td>$1,417.25</td>\n",
       "      <td>$1,421.74</td>\n",
       "      <td>$1,391.29</td>\n",
       "    </tr>\n",
       "    <tr>\n",
       "      <th>4</th>\n",
       "      <td>05/26/2020</td>\n",
       "      <td>$1,417.02</td>\n",
       "      <td>2060643</td>\n",
       "      <td>$1,437.27</td>\n",
       "      <td>$1,441</td>\n",
       "      <td>$1,412.13</td>\n",
       "    </tr>\n",
       "  </tbody>\n",
       "</table>\n",
       "</div>"
      ],
      "text/plain": [
       "         Date  Close/Last   Volume        Open        High         Low\n",
       "0    06-01-20  $1,431.82   1217140  $1,418.39   $1,437.96      $1,418 \n",
       "1  05/29/2020  $1,428.92   1838059  $1,416.94   $1,432.57   $1,413.35 \n",
       "2  05/28/2020  $1,416.73   1693976  $1,396.86   $1,440.84      $1,396 \n",
       "3  05/27/2020  $1,417.84   1686142  $1,417.25   $1,421.74   $1,391.29 \n",
       "4  05/26/2020  $1,417.02   2060643  $1,437.27      $1,441   $1,412.13 "
      ]
     },
     "execution_count": 5,
     "metadata": {},
     "output_type": "execute_result"
    }
   ],
   "source": [
    "df.head()"
   ]
  },
  {
   "cell_type": "markdown",
   "metadata": {},
   "source": [
    "# EXPLORATORY DATA ANALYSIS\n",
    "\n"
   ]
  },
  {
   "cell_type": "code",
   "execution_count": 67,
   "metadata": {},
   "outputs": [
    {
     "data": {
      "text/plain": [
       "Date           1259\n",
       " Close/Last    1259\n",
       " Volume        1259\n",
       " Open          1259\n",
       " High          1259\n",
       " Low           1259\n",
       "dtype: int64"
      ]
     },
     "execution_count": 67,
     "metadata": {},
     "output_type": "execute_result"
    }
   ],
   "source": [
    "df.count()"
   ]
  },
  {
   "cell_type": "code",
   "execution_count": 68,
   "metadata": {},
   "outputs": [
    {
     "data": {
      "text/plain": [
       "Date           object\n",
       " Close/Last    object\n",
       " Volume         int64\n",
       " Open          object\n",
       " High          object\n",
       " Low           object\n",
       "dtype: object"
      ]
     },
     "execution_count": 68,
     "metadata": {},
     "output_type": "execute_result"
    }
   ],
   "source": [
    "df.dtypes\n"
   ]
  },
  {
   "cell_type": "code",
   "execution_count": 69,
   "metadata": {},
   "outputs": [
    {
     "name": "stdout",
     "output_type": "stream",
     "text": [
      "<class 'pandas.core.frame.DataFrame'>\n",
      "RangeIndex: 1259 entries, 0 to 1258\n",
      "Data columns (total 6 columns):\n",
      " #   Column       Non-Null Count  Dtype \n",
      "---  ------       --------------  ----- \n",
      " 0   Date         1259 non-null   object\n",
      " 1    Close/Last  1259 non-null   object\n",
      " 2    Volume      1259 non-null   int64 \n",
      " 3    Open        1259 non-null   object\n",
      " 4    High        1259 non-null   object\n",
      " 5    Low         1259 non-null   object\n",
      "dtypes: int64(1), object(5)\n",
      "memory usage: 59.1+ KB\n"
     ]
    }
   ],
   "source": [
    "df.info()"
   ]
  },
  {
   "cell_type": "markdown",
   "metadata": {},
   "source": [
    "Converting date to %m/%d/%y "
   ]
  },
  {
   "cell_type": "code",
   "execution_count": 70,
   "metadata": {},
   "outputs": [
    {
     "data": {
      "text/plain": [
       "0       06/01/2020\n",
       "1       05/29/2020\n",
       "2       05/28/2020\n",
       "3       05/27/2020\n",
       "4       05/26/2020\n",
       "           ...    \n",
       "1254    06/08/2015\n",
       "1255    06/05/2015\n",
       "1256    06/04/2015\n",
       "1257    06/03/2015\n",
       "1258    06/02/2015\n",
       "Name: Date, Length: 1259, dtype: object"
      ]
     },
     "execution_count": 70,
     "metadata": {},
     "output_type": "execute_result"
    }
   ],
   "source": [
    "df['Date'] = pd.to_datetime(df.Date)\n",
    "df['Date'] = df['Date'].dt.strftime('%m/%d/%Y')\n",
    "df['Date']"
   ]
  },
  {
   "cell_type": "markdown",
   "metadata": {},
   "source": []
  },
  {
   "cell_type": "code",
   "execution_count": 71,
   "metadata": {},
   "outputs": [
    {
     "data": {
      "text/plain": [
       "['Date', ' Close/Last', ' Volume', ' Open', ' High', ' Low']"
      ]
     },
     "execution_count": 71,
     "metadata": {},
     "output_type": "execute_result"
    }
   ],
   "source": [
    "df.columns.tolist()"
   ]
  },
  {
   "cell_type": "code",
   "execution_count": 72,
   "metadata": {},
   "outputs": [],
   "source": [
    "df = df.rename(columns={df.columns[1] : 'Close'})\n",
    "df = df.rename(columns={df.columns[3] : 'Open'})\n",
    "df = df.rename(columns={df.columns[4] : 'High'})\n",
    "df = df.rename(columns={df.columns[5] : 'Low'})\n",
    "df = df.rename(columns={df.columns[2] : 'Volume'})"
   ]
  },
  {
   "cell_type": "markdown",
   "metadata": {},
   "source": [
    "# Converting columns of object types to numeric"
   ]
  },
  {
   "cell_type": "code",
   "execution_count": 73,
   "metadata": {},
   "outputs": [],
   "source": [
    "df['Close'] = df['Close'].str.replace(',','').str.replace('$','').astype('float')\n"
   ]
  },
  {
   "cell_type": "code",
   "execution_count": 74,
   "metadata": {},
   "outputs": [],
   "source": [
    "df['Open'] = df['Open'].str.replace(',','').str.replace('$','').astype('float')\n",
    "df['High'] = df['High'].str.replace(',','').str.replace('$','').astype('float')\n",
    "df['Low'] = df['Low'].str.replace(',','').str.replace('$','').astype('float')"
   ]
  },
  {
   "cell_type": "code",
   "execution_count": 78,
   "metadata": {},
   "outputs": [
    {
     "data": {
      "text/plain": [
       "Date       object\n",
       "Close     float64\n",
       "Volume      int64\n",
       "Open      float64\n",
       "High      float64\n",
       "Low       float64\n",
       "dtype: object"
      ]
     },
     "execution_count": 78,
     "metadata": {},
     "output_type": "execute_result"
    }
   ],
   "source": [
    "df.dtypes"
   ]
  },
  {
   "cell_type": "code",
   "execution_count": 77,
   "metadata": {},
   "outputs": [],
   "source": [
    "#df['Close'] = df['Close'].str.replace('$', '').astype(float)\n",
    "#df['Open'] = df['Open'].str.replace('$', '').astype(float)\n",
    "#df['High'] = df['High'].str.replace('$', '').astype(float)\n",
    "#df['Low'] = df['Low'].str.replace('$', '').astype(float)"
   ]
  },
  {
   "cell_type": "code",
   "execution_count": null,
   "metadata": {},
   "outputs": [],
   "source": []
  },
  {
   "cell_type": "code",
   "execution_count": 79,
   "metadata": {},
   "outputs": [
    {
     "data": {
      "text/html": [
       "<div>\n",
       "<style scoped>\n",
       "    .dataframe tbody tr th:only-of-type {\n",
       "        vertical-align: middle;\n",
       "    }\n",
       "\n",
       "    .dataframe tbody tr th {\n",
       "        vertical-align: top;\n",
       "    }\n",
       "\n",
       "    .dataframe thead th {\n",
       "        text-align: right;\n",
       "    }\n",
       "</style>\n",
       "<table border=\"1\" class=\"dataframe\">\n",
       "  <thead>\n",
       "    <tr style=\"text-align: right;\">\n",
       "      <th></th>\n",
       "      <th>Date</th>\n",
       "      <th>Close</th>\n",
       "      <th>Volume</th>\n",
       "      <th>Open</th>\n",
       "      <th>High</th>\n",
       "      <th>Low</th>\n",
       "    </tr>\n",
       "  </thead>\n",
       "  <tbody>\n",
       "    <tr>\n",
       "      <th>0</th>\n",
       "      <td>06/01/2020</td>\n",
       "      <td>1431.82</td>\n",
       "      <td>1217140</td>\n",
       "      <td>1418.39</td>\n",
       "      <td>1437.96</td>\n",
       "      <td>1418.00</td>\n",
       "    </tr>\n",
       "    <tr>\n",
       "      <th>1</th>\n",
       "      <td>05/29/2020</td>\n",
       "      <td>1428.92</td>\n",
       "      <td>1838059</td>\n",
       "      <td>1416.94</td>\n",
       "      <td>1432.57</td>\n",
       "      <td>1413.35</td>\n",
       "    </tr>\n",
       "    <tr>\n",
       "      <th>2</th>\n",
       "      <td>05/28/2020</td>\n",
       "      <td>1416.73</td>\n",
       "      <td>1693976</td>\n",
       "      <td>1396.86</td>\n",
       "      <td>1440.84</td>\n",
       "      <td>1396.00</td>\n",
       "    </tr>\n",
       "    <tr>\n",
       "      <th>3</th>\n",
       "      <td>05/27/2020</td>\n",
       "      <td>1417.84</td>\n",
       "      <td>1686142</td>\n",
       "      <td>1417.25</td>\n",
       "      <td>1421.74</td>\n",
       "      <td>1391.29</td>\n",
       "    </tr>\n",
       "    <tr>\n",
       "      <th>4</th>\n",
       "      <td>05/26/2020</td>\n",
       "      <td>1417.02</td>\n",
       "      <td>2060643</td>\n",
       "      <td>1437.27</td>\n",
       "      <td>1441.00</td>\n",
       "      <td>1412.13</td>\n",
       "    </tr>\n",
       "  </tbody>\n",
       "</table>\n",
       "</div>"
      ],
      "text/plain": [
       "         Date    Close   Volume     Open     High      Low\n",
       "0  06/01/2020  1431.82  1217140  1418.39  1437.96  1418.00\n",
       "1  05/29/2020  1428.92  1838059  1416.94  1432.57  1413.35\n",
       "2  05/28/2020  1416.73  1693976  1396.86  1440.84  1396.00\n",
       "3  05/27/2020  1417.84  1686142  1417.25  1421.74  1391.29\n",
       "4  05/26/2020  1417.02  2060643  1437.27  1441.00  1412.13"
      ]
     },
     "execution_count": 79,
     "metadata": {},
     "output_type": "execute_result"
    }
   ],
   "source": [
    "df.head()"
   ]
  },
  {
   "cell_type": "markdown",
   "metadata": {},
   "source": [
    "# Discriptive statistics of data set"
   ]
  },
  {
   "cell_type": "code",
   "execution_count": 80,
   "metadata": {},
   "outputs": [
    {
     "data": {
      "text/html": [
       "<div>\n",
       "<style scoped>\n",
       "    .dataframe tbody tr th:only-of-type {\n",
       "        vertical-align: middle;\n",
       "    }\n",
       "\n",
       "    .dataframe tbody tr th {\n",
       "        vertical-align: top;\n",
       "    }\n",
       "\n",
       "    .dataframe thead th {\n",
       "        text-align: right;\n",
       "    }\n",
       "</style>\n",
       "<table border=\"1\" class=\"dataframe\">\n",
       "  <thead>\n",
       "    <tr style=\"text-align: right;\">\n",
       "      <th></th>\n",
       "      <th>Close</th>\n",
       "      <th>Volume</th>\n",
       "      <th>Open</th>\n",
       "      <th>High</th>\n",
       "      <th>Low</th>\n",
       "    </tr>\n",
       "  </thead>\n",
       "  <tbody>\n",
       "    <tr>\n",
       "      <th>count</th>\n",
       "      <td>1259.000000</td>\n",
       "      <td>1.259000e+03</td>\n",
       "      <td>1259.000000</td>\n",
       "      <td>1259.000000</td>\n",
       "      <td>1259.000000</td>\n",
       "    </tr>\n",
       "    <tr>\n",
       "      <th>mean</th>\n",
       "      <td>979.484162</td>\n",
       "      <td>1.716753e+06</td>\n",
       "      <td>978.958658</td>\n",
       "      <td>988.005663</td>\n",
       "      <td>970.119929</td>\n",
       "    </tr>\n",
       "    <tr>\n",
       "      <th>std</th>\n",
       "      <td>231.364469</td>\n",
       "      <td>8.602090e+05</td>\n",
       "      <td>230.802023</td>\n",
       "      <td>233.560593</td>\n",
       "      <td>228.683280</td>\n",
       "    </tr>\n",
       "    <tr>\n",
       "      <th>min</th>\n",
       "      <td>516.830000</td>\n",
       "      <td>3.475180e+05</td>\n",
       "      <td>519.500000</td>\n",
       "      <td>522.730000</td>\n",
       "      <td>515.180000</td>\n",
       "    </tr>\n",
       "    <tr>\n",
       "      <th>25%</th>\n",
       "      <td>768.785000</td>\n",
       "      <td>1.207952e+06</td>\n",
       "      <td>769.000000</td>\n",
       "      <td>773.860000</td>\n",
       "      <td>763.315000</td>\n",
       "    </tr>\n",
       "    <tr>\n",
       "      <th>50%</th>\n",
       "      <td>1019.270000</td>\n",
       "      <td>1.487378e+06</td>\n",
       "      <td>1017.210000</td>\n",
       "      <td>1031.580000</td>\n",
       "      <td>1006.290000</td>\n",
       "    </tr>\n",
       "    <tr>\n",
       "      <th>75%</th>\n",
       "      <td>1161.890000</td>\n",
       "      <td>1.961882e+06</td>\n",
       "      <td>1157.215000</td>\n",
       "      <td>1172.800000</td>\n",
       "      <td>1146.045000</td>\n",
       "    </tr>\n",
       "    <tr>\n",
       "      <th>max</th>\n",
       "      <td>1526.690000</td>\n",
       "      <td>1.115350e+07</td>\n",
       "      <td>1525.070000</td>\n",
       "      <td>1532.110000</td>\n",
       "      <td>1521.400000</td>\n",
       "    </tr>\n",
       "  </tbody>\n",
       "</table>\n",
       "</div>"
      ],
      "text/plain": [
       "             Close        Volume         Open         High          Low\n",
       "count  1259.000000  1.259000e+03  1259.000000  1259.000000  1259.000000\n",
       "mean    979.484162  1.716753e+06   978.958658   988.005663   970.119929\n",
       "std     231.364469  8.602090e+05   230.802023   233.560593   228.683280\n",
       "min     516.830000  3.475180e+05   519.500000   522.730000   515.180000\n",
       "25%     768.785000  1.207952e+06   769.000000   773.860000   763.315000\n",
       "50%    1019.270000  1.487378e+06  1017.210000  1031.580000  1006.290000\n",
       "75%    1161.890000  1.961882e+06  1157.215000  1172.800000  1146.045000\n",
       "max    1526.690000  1.115350e+07  1525.070000  1532.110000  1521.400000"
      ]
     },
     "execution_count": 80,
     "metadata": {},
     "output_type": "execute_result"
    }
   ],
   "source": [
    "df.describe()"
   ]
  },
  {
   "cell_type": "markdown",
   "metadata": {},
   "source": [
    "# Checking null values in cloumns "
   ]
  },
  {
   "cell_type": "code",
   "execution_count": 81,
   "metadata": {},
   "outputs": [
    {
     "data": {
      "text/plain": [
       "Date      0\n",
       "Close     0\n",
       "Volume    0\n",
       "Open      0\n",
       "High      0\n",
       "Low       0\n",
       "dtype: int64"
      ]
     },
     "execution_count": 81,
     "metadata": {},
     "output_type": "execute_result"
    }
   ],
   "source": [
    "df.isnull().sum()"
   ]
  },
  {
   "cell_type": "markdown",
   "metadata": {},
   "source": [
    "#Finding the correlation "
   ]
  },
  {
   "cell_type": "code",
   "execution_count": 82,
   "metadata": {},
   "outputs": [
    {
     "data": {
      "text/html": [
       "<div>\n",
       "<style scoped>\n",
       "    .dataframe tbody tr th:only-of-type {\n",
       "        vertical-align: middle;\n",
       "    }\n",
       "\n",
       "    .dataframe tbody tr th {\n",
       "        vertical-align: top;\n",
       "    }\n",
       "\n",
       "    .dataframe thead th {\n",
       "        text-align: right;\n",
       "    }\n",
       "</style>\n",
       "<table border=\"1\" class=\"dataframe\">\n",
       "  <thead>\n",
       "    <tr style=\"text-align: right;\">\n",
       "      <th></th>\n",
       "      <th>Close</th>\n",
       "      <th>Volume</th>\n",
       "      <th>Open</th>\n",
       "      <th>High</th>\n",
       "      <th>Low</th>\n",
       "    </tr>\n",
       "  </thead>\n",
       "  <tbody>\n",
       "    <tr>\n",
       "      <th>Close</th>\n",
       "      <td>1.000000</td>\n",
       "      <td>-0.166342</td>\n",
       "      <td>0.998435</td>\n",
       "      <td>0.999154</td>\n",
       "      <td>0.999221</td>\n",
       "    </tr>\n",
       "    <tr>\n",
       "      <th>Volume</th>\n",
       "      <td>-0.166342</td>\n",
       "      <td>1.000000</td>\n",
       "      <td>-0.161560</td>\n",
       "      <td>-0.148881</td>\n",
       "      <td>-0.179431</td>\n",
       "    </tr>\n",
       "    <tr>\n",
       "      <th>Open</th>\n",
       "      <td>0.998435</td>\n",
       "      <td>-0.161560</td>\n",
       "      <td>1.000000</td>\n",
       "      <td>0.999272</td>\n",
       "      <td>0.999105</td>\n",
       "    </tr>\n",
       "    <tr>\n",
       "      <th>High</th>\n",
       "      <td>0.999154</td>\n",
       "      <td>-0.148881</td>\n",
       "      <td>0.999272</td>\n",
       "      <td>1.000000</td>\n",
       "      <td>0.998754</td>\n",
       "    </tr>\n",
       "    <tr>\n",
       "      <th>Low</th>\n",
       "      <td>0.999221</td>\n",
       "      <td>-0.179431</td>\n",
       "      <td>0.999105</td>\n",
       "      <td>0.998754</td>\n",
       "      <td>1.000000</td>\n",
       "    </tr>\n",
       "  </tbody>\n",
       "</table>\n",
       "</div>"
      ],
      "text/plain": [
       "           Close    Volume      Open      High       Low\n",
       "Close   1.000000 -0.166342  0.998435  0.999154  0.999221\n",
       "Volume -0.166342  1.000000 -0.161560 -0.148881 -0.179431\n",
       "Open    0.998435 -0.161560  1.000000  0.999272  0.999105\n",
       "High    0.999154 -0.148881  0.999272  1.000000  0.998754\n",
       "Low     0.999221 -0.179431  0.999105  0.998754  1.000000"
      ]
     },
     "execution_count": 82,
     "metadata": {},
     "output_type": "execute_result"
    }
   ],
   "source": [
    "df.corr()"
   ]
  },
  {
   "cell_type": "markdown",
   "metadata": {},
   "source": [
    "# Finding out the outliers\n",
    "\n",
    "Identifying outliers with Interquartilerange(IQR)"
   ]
  },
  {
   "cell_type": "code",
   "execution_count": 84,
   "metadata": {},
   "outputs": [
    {
     "name": "stdout",
     "output_type": "stream",
     "text": [
      "Close        393.105\n",
      "Volume    753930.500\n",
      "Open         388.215\n",
      "High         398.940\n",
      "Low          382.730\n",
      "dtype: float64\n"
     ]
    }
   ],
   "source": [
    "Q1 = df.quantile(0.25)\n",
    "Q3 = df.quantile(0.75)\n",
    "IQR = Q3 - Q1\n",
    "print(IQR)"
   ]
  },
  {
   "cell_type": "code",
   "execution_count": 86,
   "metadata": {},
   "outputs": [],
   "source": [
    "df1 = df[['Close', 'Volume', 'Open', 'High', 'Low']]"
   ]
  },
  {
   "cell_type": "code",
   "execution_count": 87,
   "metadata": {},
   "outputs": [
    {
     "data": {
      "text/html": [
       "<div>\n",
       "<style scoped>\n",
       "    .dataframe tbody tr th:only-of-type {\n",
       "        vertical-align: middle;\n",
       "    }\n",
       "\n",
       "    .dataframe tbody tr th {\n",
       "        vertical-align: top;\n",
       "    }\n",
       "\n",
       "    .dataframe thead th {\n",
       "        text-align: right;\n",
       "    }\n",
       "</style>\n",
       "<table border=\"1\" class=\"dataframe\">\n",
       "  <thead>\n",
       "    <tr style=\"text-align: right;\">\n",
       "      <th></th>\n",
       "      <th>Close</th>\n",
       "      <th>Volume</th>\n",
       "      <th>Open</th>\n",
       "      <th>High</th>\n",
       "      <th>Low</th>\n",
       "    </tr>\n",
       "  </thead>\n",
       "  <tbody>\n",
       "    <tr>\n",
       "      <th>0</th>\n",
       "      <td>1431.82</td>\n",
       "      <td>1217140</td>\n",
       "      <td>1418.39</td>\n",
       "      <td>1437.96</td>\n",
       "      <td>1418.00</td>\n",
       "    </tr>\n",
       "    <tr>\n",
       "      <th>1</th>\n",
       "      <td>1428.92</td>\n",
       "      <td>1838059</td>\n",
       "      <td>1416.94</td>\n",
       "      <td>1432.57</td>\n",
       "      <td>1413.35</td>\n",
       "    </tr>\n",
       "    <tr>\n",
       "      <th>2</th>\n",
       "      <td>1416.73</td>\n",
       "      <td>1693976</td>\n",
       "      <td>1396.86</td>\n",
       "      <td>1440.84</td>\n",
       "      <td>1396.00</td>\n",
       "    </tr>\n",
       "    <tr>\n",
       "      <th>3</th>\n",
       "      <td>1417.84</td>\n",
       "      <td>1686142</td>\n",
       "      <td>1417.25</td>\n",
       "      <td>1421.74</td>\n",
       "      <td>1391.29</td>\n",
       "    </tr>\n",
       "    <tr>\n",
       "      <th>4</th>\n",
       "      <td>1417.02</td>\n",
       "      <td>2060643</td>\n",
       "      <td>1437.27</td>\n",
       "      <td>1441.00</td>\n",
       "      <td>1412.13</td>\n",
       "    </tr>\n",
       "  </tbody>\n",
       "</table>\n",
       "</div>"
      ],
      "text/plain": [
       "     Close   Volume     Open     High      Low\n",
       "0  1431.82  1217140  1418.39  1437.96  1418.00\n",
       "1  1428.92  1838059  1416.94  1432.57  1413.35\n",
       "2  1416.73  1693976  1396.86  1440.84  1396.00\n",
       "3  1417.84  1686142  1417.25  1421.74  1391.29\n",
       "4  1417.02  2060643  1437.27  1441.00  1412.13"
      ]
     },
     "execution_count": 87,
     "metadata": {},
     "output_type": "execute_result"
    }
   ],
   "source": [
    "df1.head()"
   ]
  },
  {
   "cell_type": "code",
   "execution_count": 88,
   "metadata": {},
   "outputs": [
    {
     "data": {
      "text/plain": [
       "Close       179.1275\n",
       "Volume    77055.7500\n",
       "Open        186.6775\n",
       "High        175.4500\n",
       "Low         189.2200\n",
       "dtype: float64"
      ]
     },
     "execution_count": 88,
     "metadata": {},
     "output_type": "execute_result"
    }
   ],
   "source": [
    "lower_limit = (Q1 - 1.5 * IQR)\n",
    "lower_limit"
   ]
  },
  {
   "cell_type": "code",
   "execution_count": 89,
   "metadata": {},
   "outputs": [
    {
     "data": {
      "text/plain": [
       "Close     1.751547e+03\n",
       "Volume    3.092778e+06\n",
       "Open      1.739538e+03\n",
       "High      1.771210e+03\n",
       "Low       1.720140e+03\n",
       "dtype: float64"
      ]
     },
     "execution_count": 89,
     "metadata": {},
     "output_type": "execute_result"
    }
   ],
   "source": [
    "upper_limit = (Q3 + 1.5 * IQR)\n",
    "upper_limit"
   ]
  },
  {
   "cell_type": "code",
   "execution_count": 90,
   "metadata": {},
   "outputs": [
    {
     "name": "stdout",
     "output_type": "stream",
     "text": [
      "      Close   Date   High    Low   Open  Volume\n",
      "0     False  False  False  False  False   False\n",
      "1     False  False  False  False  False   False\n",
      "2     False  False  False  False  False   False\n",
      "3     False  False  False  False  False   False\n",
      "4     False  False  False  False  False   False\n",
      "...     ...    ...    ...    ...    ...     ...\n",
      "1254  False  False  False  False  False   False\n",
      "1255  False  False  False  False  False   False\n",
      "1256  False  False  False  False  False   False\n",
      "1257  False  False  False  False  False   False\n",
      "1258  False  False  False  False  False   False\n",
      "\n",
      "[1259 rows x 6 columns]\n"
     ]
    }
   ],
   "source": [
    "print((df < lower_limit) | (df > upper_limit))"
   ]
  },
  {
   "cell_type": "code",
   "execution_count": 91,
   "metadata": {},
   "outputs": [
    {
     "data": {
      "text/plain": [
       "Close        1019.27\n",
       "Volume    1487378.00\n",
       "Open         1017.21\n",
       "High         1031.58\n",
       "Low          1006.29\n",
       "Name: 0.5, dtype: float64"
      ]
     },
     "execution_count": 91,
     "metadata": {},
     "output_type": "execute_result"
    }
   ],
   "source": [
    "median = df.quantile(0.50)\n",
    "median"
   ]
  },
  {
   "cell_type": "code",
   "execution_count": 92,
   "metadata": {},
   "outputs": [
    {
     "data": {
      "text/plain": [
       "Close      0\n",
       "Date       0\n",
       "High       0\n",
       "Low        0\n",
       "Open       0\n",
       "Volume    83\n",
       "dtype: int64"
      ]
     },
     "execution_count": 92,
     "metadata": {},
     "output_type": "execute_result"
    }
   ],
   "source": [
    "((df < (Q1 - 1.5 * IQR)) | (df > (Q3 + 1.5 * IQR))).sum()"
   ]
  },
  {
   "cell_type": "code",
   "execution_count": 93,
   "metadata": {},
   "outputs": [
    {
     "data": {
      "text/html": [
       "<div>\n",
       "<style scoped>\n",
       "    .dataframe tbody tr th:only-of-type {\n",
       "        vertical-align: middle;\n",
       "    }\n",
       "\n",
       "    .dataframe tbody tr th {\n",
       "        vertical-align: top;\n",
       "    }\n",
       "\n",
       "    .dataframe thead th {\n",
       "        text-align: right;\n",
       "    }\n",
       "</style>\n",
       "<table border=\"1\" class=\"dataframe\">\n",
       "  <thead>\n",
       "    <tr style=\"text-align: right;\">\n",
       "      <th></th>\n",
       "      <th>Date</th>\n",
       "      <th>Close</th>\n",
       "      <th>Volume</th>\n",
       "      <th>Open</th>\n",
       "      <th>High</th>\n",
       "      <th>Low</th>\n",
       "    </tr>\n",
       "  </thead>\n",
       "  <tbody>\n",
       "    <tr>\n",
       "      <th>0</th>\n",
       "      <td>06/01/2020</td>\n",
       "      <td>1431.82</td>\n",
       "      <td>1217140</td>\n",
       "      <td>1418.39</td>\n",
       "      <td>1437.96</td>\n",
       "      <td>1418.00</td>\n",
       "    </tr>\n",
       "    <tr>\n",
       "      <th>1</th>\n",
       "      <td>05/29/2020</td>\n",
       "      <td>1428.92</td>\n",
       "      <td>1838059</td>\n",
       "      <td>1416.94</td>\n",
       "      <td>1432.57</td>\n",
       "      <td>1413.35</td>\n",
       "    </tr>\n",
       "    <tr>\n",
       "      <th>2</th>\n",
       "      <td>05/28/2020</td>\n",
       "      <td>1416.73</td>\n",
       "      <td>1693976</td>\n",
       "      <td>1396.86</td>\n",
       "      <td>1440.84</td>\n",
       "      <td>1396.00</td>\n",
       "    </tr>\n",
       "    <tr>\n",
       "      <th>3</th>\n",
       "      <td>05/27/2020</td>\n",
       "      <td>1417.84</td>\n",
       "      <td>1686142</td>\n",
       "      <td>1417.25</td>\n",
       "      <td>1421.74</td>\n",
       "      <td>1391.29</td>\n",
       "    </tr>\n",
       "    <tr>\n",
       "      <th>4</th>\n",
       "      <td>05/26/2020</td>\n",
       "      <td>1417.02</td>\n",
       "      <td>2060643</td>\n",
       "      <td>1437.27</td>\n",
       "      <td>1441.00</td>\n",
       "      <td>1412.13</td>\n",
       "    </tr>\n",
       "    <tr>\n",
       "      <th>...</th>\n",
       "      <td>...</td>\n",
       "      <td>...</td>\n",
       "      <td>...</td>\n",
       "      <td>...</td>\n",
       "      <td>...</td>\n",
       "      <td>...</td>\n",
       "    </tr>\n",
       "    <tr>\n",
       "      <th>1254</th>\n",
       "      <td>06/08/2015</td>\n",
       "      <td>526.83</td>\n",
       "      <td>1523960</td>\n",
       "      <td>533.31</td>\n",
       "      <td>534.12</td>\n",
       "      <td>526.24</td>\n",
       "    </tr>\n",
       "    <tr>\n",
       "      <th>1255</th>\n",
       "      <td>06/05/2015</td>\n",
       "      <td>533.33</td>\n",
       "      <td>1375008</td>\n",
       "      <td>536.35</td>\n",
       "      <td>537.20</td>\n",
       "      <td>532.52</td>\n",
       "    </tr>\n",
       "    <tr>\n",
       "      <th>1256</th>\n",
       "      <td>06/04/2015</td>\n",
       "      <td>536.70</td>\n",
       "      <td>1346044</td>\n",
       "      <td>537.76</td>\n",
       "      <td>540.59</td>\n",
       "      <td>534.32</td>\n",
       "    </tr>\n",
       "    <tr>\n",
       "      <th>1257</th>\n",
       "      <td>06/03/2015</td>\n",
       "      <td>540.31</td>\n",
       "      <td>1716836</td>\n",
       "      <td>539.91</td>\n",
       "      <td>543.50</td>\n",
       "      <td>537.11</td>\n",
       "    </tr>\n",
       "    <tr>\n",
       "      <th>1258</th>\n",
       "      <td>06/02/2015</td>\n",
       "      <td>539.18</td>\n",
       "      <td>1936721</td>\n",
       "      <td>532.93</td>\n",
       "      <td>543.00</td>\n",
       "      <td>531.33</td>\n",
       "    </tr>\n",
       "  </tbody>\n",
       "</table>\n",
       "<p>1259 rows × 6 columns</p>\n",
       "</div>"
      ],
      "text/plain": [
       "            Date    Close   Volume     Open     High      Low\n",
       "0     06/01/2020  1431.82  1217140  1418.39  1437.96  1418.00\n",
       "1     05/29/2020  1428.92  1838059  1416.94  1432.57  1413.35\n",
       "2     05/28/2020  1416.73  1693976  1396.86  1440.84  1396.00\n",
       "3     05/27/2020  1417.84  1686142  1417.25  1421.74  1391.29\n",
       "4     05/26/2020  1417.02  2060643  1437.27  1441.00  1412.13\n",
       "...          ...      ...      ...      ...      ...      ...\n",
       "1254  06/08/2015   526.83  1523960   533.31   534.12   526.24\n",
       "1255  06/05/2015   533.33  1375008   536.35   537.20   532.52\n",
       "1256  06/04/2015   536.70  1346044   537.76   540.59   534.32\n",
       "1257  06/03/2015   540.31  1716836   539.91   543.50   537.11\n",
       "1258  06/02/2015   539.18  1936721   532.93   543.00   531.33\n",
       "\n",
       "[1259 rows x 6 columns]"
      ]
     },
     "execution_count": 93,
     "metadata": {},
     "output_type": "execute_result"
    }
   ],
   "source": [
    "df"
   ]
  },
  {
   "cell_type": "markdown",
   "metadata": {},
   "source": [
    "#stopping the sparkcontext if running any"
   ]
  },
  {
   "cell_type": "code",
   "execution_count": 94,
   "metadata": {},
   "outputs": [],
   "source": [
    "sc.stop()"
   ]
  },
  {
   "cell_type": "markdown",
   "metadata": {},
   "source": [
    "#Importing spark modules"
   ]
  },
  {
   "cell_type": "code",
   "execution_count": 95,
   "metadata": {},
   "outputs": [],
   "source": [
    "from pyspark import SparkConf, SparkContext\n",
    "from pyspark.sql import SQLContext\n",
    "sc= SparkContext()\n",
    "sqlContext = SQLContext(sc)"
   ]
  },
  {
   "cell_type": "code",
   "execution_count": 96,
   "metadata": {},
   "outputs": [],
   "source": [
    "data = sqlContext.createDataFrame(df)"
   ]
  },
  {
   "cell_type": "code",
   "execution_count": 97,
   "metadata": {},
   "outputs": [
    {
     "name": "stdout",
     "output_type": "stream",
     "text": [
      "+----------+-------+-------+-------+-------+-------+\n",
      "|      Date|  Close| Volume|   Open|   High|    Low|\n",
      "+----------+-------+-------+-------+-------+-------+\n",
      "|06/01/2020|1431.82|1217140|1418.39|1437.96| 1418.0|\n",
      "|05/29/2020|1428.92|1838059|1416.94|1432.57|1413.35|\n",
      "|05/28/2020|1416.73|1693976|1396.86|1440.84| 1396.0|\n",
      "|05/27/2020|1417.84|1686142|1417.25|1421.74|1391.29|\n",
      "|05/26/2020|1417.02|2060643|1437.27| 1441.0|1412.13|\n",
      "|05/22/2020|1410.42|1309408|1396.71|1412.76|1391.83|\n",
      "|05/21/2020| 1402.8|1385194| 1408.0|1415.49|1393.45|\n",
      "|05/20/2020|1406.72|1655375|1389.58|1410.42|1387.25|\n",
      "|05/19/2020|1373.49|1280649| 1387.0| 1392.0|1373.49|\n",
      "|05/18/2020|1383.94|1823964|1361.75|1392.33|1354.25|\n",
      "|05/15/2020|1373.19|1707747| 1350.0|1374.48| 1339.0|\n",
      "|05/14/2020|1356.13|1603077|1335.02|1357.42|1323.91|\n",
      "|05/13/2020|1349.33|1812585|1377.05|1385.48| 1328.4|\n",
      "|05/12/2020|1375.74|1390600|1407.12| 1415.0|1374.77|\n",
      "|05/11/2020|1403.26|1412116|1378.28|1416.53|1377.15|\n",
      "|05/08/2020|1388.37|1388068|1383.13|1398.76|1375.48|\n",
      "|05/07/2020|1372.56|1399759|1365.94| 1377.6|1355.27|\n",
      "|05/06/2020| 1347.3|1215423|1361.69|1371.12|1347.29|\n",
      "|05/05/2020|1351.11|1651533|1337.92|1373.94|1337.46|\n",
      "|05/04/2020| 1326.8|1504017|1308.23|1327.66| 1299.0|\n",
      "+----------+-------+-------+-------+-------+-------+\n",
      "only showing top 20 rows\n",
      "\n"
     ]
    }
   ],
   "source": [
    "data.show()"
   ]
  },
  {
   "cell_type": "code",
   "execution_count": 99,
   "metadata": {},
   "outputs": [
    {
     "name": "stdout",
     "output_type": "stream",
     "text": [
      "root\n",
      " |-- Date: string (nullable = true)\n",
      " |-- Close: double (nullable = true)\n",
      " |-- Volume: long (nullable = true)\n",
      " |-- Open: double (nullable = true)\n",
      " |-- High: double (nullable = true)\n",
      " |-- Low: double (nullable = true)\n",
      "\n"
     ]
    }
   ],
   "source": [
    "data.printSchema()"
   ]
  },
  {
   "cell_type": "markdown",
   "metadata": {},
   "source": [
    "# Importing linear regression module from pyspark mllib"
   ]
  },
  {
   "cell_type": "code",
   "execution_count": 117,
   "metadata": {},
   "outputs": [],
   "source": [
    "from pyspark.ml.regression import LinearRegression\n",
    "from pyspark.ml.evaluation import RegressionEvaluator\n"
   ]
  },
  {
   "cell_type": "code",
   "execution_count": 101,
   "metadata": {},
   "outputs": [
    {
     "data": {
      "text/plain": [
       "DataFrame[Date: string, Close: double, Volume: bigint, Open: double, High: double, Low: double]"
      ]
     },
     "execution_count": 101,
     "metadata": {},
     "output_type": "execute_result"
    }
   ],
   "source": [
    "data"
   ]
  },
  {
   "cell_type": "code",
   "execution_count": 102,
   "metadata": {},
   "outputs": [],
   "source": [
    "from pyspark.ml.linalg import Vectors\n",
    "from pyspark.ml.feature import VectorAssembler"
   ]
  },
  {
   "cell_type": "markdown",
   "metadata": {},
   "source": [
    "# converting the dependent variables to single column called features using vectorAssembler"
   ]
  },
  {
   "cell_type": "code",
   "execution_count": 103,
   "metadata": {},
   "outputs": [],
   "source": [
    "featureassembler=VectorAssembler(inputCols=[\"Open\",\"High\",\"Low\"],outputCol=\"Features\")"
   ]
  },
  {
   "cell_type": "code",
   "execution_count": 105,
   "metadata": {},
   "outputs": [],
   "source": [
    "output=featureassembler.transform(data)"
   ]
  },
  {
   "cell_type": "code",
   "execution_count": 106,
   "metadata": {},
   "outputs": [
    {
     "name": "stdout",
     "output_type": "stream",
     "text": [
      "+----------+-------+-------+-------+-------+-------+--------------------+\n",
      "|      Date|  Close| Volume|   Open|   High|    Low|            Features|\n",
      "+----------+-------+-------+-------+-------+-------+--------------------+\n",
      "|06/01/2020|1431.82|1217140|1418.39|1437.96| 1418.0|[1418.39,1437.96,...|\n",
      "|05/29/2020|1428.92|1838059|1416.94|1432.57|1413.35|[1416.94,1432.57,...|\n",
      "|05/28/2020|1416.73|1693976|1396.86|1440.84| 1396.0|[1396.86,1440.84,...|\n",
      "|05/27/2020|1417.84|1686142|1417.25|1421.74|1391.29|[1417.25,1421.74,...|\n",
      "|05/26/2020|1417.02|2060643|1437.27| 1441.0|1412.13|[1437.27,1441.0,1...|\n",
      "|05/22/2020|1410.42|1309408|1396.71|1412.76|1391.83|[1396.71,1412.76,...|\n",
      "|05/21/2020| 1402.8|1385194| 1408.0|1415.49|1393.45|[1408.0,1415.49,1...|\n",
      "|05/20/2020|1406.72|1655375|1389.58|1410.42|1387.25|[1389.58,1410.42,...|\n",
      "|05/19/2020|1373.49|1280649| 1387.0| 1392.0|1373.49|[1387.0,1392.0,13...|\n",
      "|05/18/2020|1383.94|1823964|1361.75|1392.33|1354.25|[1361.75,1392.33,...|\n",
      "|05/15/2020|1373.19|1707747| 1350.0|1374.48| 1339.0|[1350.0,1374.48,1...|\n",
      "|05/14/2020|1356.13|1603077|1335.02|1357.42|1323.91|[1335.02,1357.42,...|\n",
      "|05/13/2020|1349.33|1812585|1377.05|1385.48| 1328.4|[1377.05,1385.48,...|\n",
      "|05/12/2020|1375.74|1390600|1407.12| 1415.0|1374.77|[1407.12,1415.0,1...|\n",
      "|05/11/2020|1403.26|1412116|1378.28|1416.53|1377.15|[1378.28,1416.53,...|\n",
      "|05/08/2020|1388.37|1388068|1383.13|1398.76|1375.48|[1383.13,1398.76,...|\n",
      "|05/07/2020|1372.56|1399759|1365.94| 1377.6|1355.27|[1365.94,1377.6,1...|\n",
      "|05/06/2020| 1347.3|1215423|1361.69|1371.12|1347.29|[1361.69,1371.12,...|\n",
      "|05/05/2020|1351.11|1651533|1337.92|1373.94|1337.46|[1337.92,1373.94,...|\n",
      "|05/04/2020| 1326.8|1504017|1308.23|1327.66| 1299.0|[1308.23,1327.66,...|\n",
      "+----------+-------+-------+-------+-------+-------+--------------------+\n",
      "only showing top 20 rows\n",
      "\n"
     ]
    }
   ],
   "source": [
    "output.show()"
   ]
  },
  {
   "cell_type": "code",
   "execution_count": 107,
   "metadata": {},
   "outputs": [],
   "source": [
    "finalized_data = output.select(\"features\",\"Close\")"
   ]
  },
  {
   "cell_type": "code",
   "execution_count": 109,
   "metadata": {},
   "outputs": [
    {
     "name": "stdout",
     "output_type": "stream",
     "text": [
      "+--------------------+-------+\n",
      "|            features|  Close|\n",
      "+--------------------+-------+\n",
      "|[1418.39,1437.96,...|1431.82|\n",
      "|[1416.94,1432.57,...|1428.92|\n",
      "|[1396.86,1440.84,...|1416.73|\n",
      "|[1417.25,1421.74,...|1417.84|\n",
      "|[1437.27,1441.0,1...|1417.02|\n",
      "|[1396.71,1412.76,...|1410.42|\n",
      "|[1408.0,1415.49,1...| 1402.8|\n",
      "|[1389.58,1410.42,...|1406.72|\n",
      "|[1387.0,1392.0,13...|1373.49|\n",
      "|[1361.75,1392.33,...|1383.94|\n",
      "|[1350.0,1374.48,1...|1373.19|\n",
      "|[1335.02,1357.42,...|1356.13|\n",
      "|[1377.05,1385.48,...|1349.33|\n",
      "|[1407.12,1415.0,1...|1375.74|\n",
      "|[1378.28,1416.53,...|1403.26|\n",
      "|[1383.13,1398.76,...|1388.37|\n",
      "|[1365.94,1377.6,1...|1372.56|\n",
      "|[1361.69,1371.12,...| 1347.3|\n",
      "|[1337.92,1373.94,...|1351.11|\n",
      "|[1308.23,1327.66,...| 1326.8|\n",
      "+--------------------+-------+\n",
      "only showing top 20 rows\n",
      "\n"
     ]
    }
   ],
   "source": [
    "finalized_data.show()"
   ]
  },
  {
   "cell_type": "markdown",
   "metadata": {},
   "source": [
    "# Training and testing the model"
   ]
  },
  {
   "cell_type": "code",
   "execution_count": 110,
   "metadata": {},
   "outputs": [],
   "source": [
    "train_data,test_data=finalized_data.randomSplit([0.80,0.20])"
   ]
  },
  {
   "cell_type": "code",
   "execution_count": 111,
   "metadata": {},
   "outputs": [],
   "source": [
    "regressor=LinearRegression(featuresCol='features', labelCol='Close')\n",
    "regressor=regressor.fit(train_data)"
   ]
  },
  {
   "cell_type": "markdown",
   "metadata": {},
   "source": [
    "Dispalying the coefficients i.e slope m1,m2,m3"
   ]
  },
  {
   "cell_type": "code",
   "execution_count": 112,
   "metadata": {},
   "outputs": [
    {
     "data": {
      "text/plain": [
       "DenseVector([-0.5713, 0.8131, 0.7575])"
      ]
     },
     "execution_count": 112,
     "metadata": {},
     "output_type": "execute_result"
    }
   ],
   "source": [
    "regressor.coefficients"
   ]
  },
  {
   "cell_type": "code",
   "execution_count": 113,
   "metadata": {},
   "outputs": [
    {
     "data": {
      "text/plain": [
       "0.575943787087348"
      ]
     },
     "execution_count": 113,
     "metadata": {},
     "output_type": "execute_result"
    }
   ],
   "source": [
    "regressor.intercept"
   ]
  },
  {
   "cell_type": "code",
   "execution_count": 114,
   "metadata": {},
   "outputs": [],
   "source": [
    "pred_results=regressor.evaluate(test_data)"
   ]
  },
  {
   "cell_type": "code",
   "execution_count": 115,
   "metadata": {},
   "outputs": [
    {
     "name": "stdout",
     "output_type": "stream",
     "text": [
      "+--------------------+------+-----------------+\n",
      "|            features| Close|       prediction|\n",
      "+--------------------+------+-----------------+\n",
      "|[529.36,538.36,52...|536.69|536.8824789761328|\n",
      "|[529.37,530.98,52...|529.26|527.6563385026075|\n",
      "|[532.88,547.11,53...|546.55|544.2967706576342|\n",
      "|[539.91,543.5,537...|540.31|540.9126543537212|\n",
      "|[546.76,565.85,54...| 561.1|562.4448318562587|\n",
      "|[573.0,614.0,565.05]|589.61|600.4984268064258|\n",
      "|[597.28,605.0,590...|594.97|598.3744717977121|\n",
      "|[607.2,627.34,603...|626.91|620.6518560817318|\n",
      "|[610.34,614.61,58...|594.89|598.0907310954345|\n",
      "|[610.35,631.71,59...|628.62|619.3149173098751|\n",
      "|[612.49,616.31,60...|614.66|609.4104057029652|\n",
      "|[616.64,627.32,61...| 625.8|622.2642413350526|\n",
      "|[617.0,619.71,602...|606.25|608.6135716957714|\n",
      "|[622.05,628.93,62...|622.36|626.2395217341381|\n",
      "|[628.8,633.36,622...|631.93|627.9925867886992|\n",
      "|[659.24,668.88,65...|663.02|662.4818160004908|\n",
      "|[661.27,663.63,64...|644.28| 647.955270114638|\n",
      "|[663.08,665.0,652...|659.56|656.5874496011718|\n",
      "|[664.04,664.72,64...|650.28|649.6830122156197|\n",
      "|[672.32,699.9,668...|678.11|692.1707532552863|\n",
      "+--------------------+------+-----------------+\n",
      "only showing top 20 rows\n",
      "\n"
     ]
    }
   ],
   "source": [
    "pred_results.predictions.show()"
   ]
  },
  {
   "cell_type": "code",
   "execution_count": 123,
   "metadata": {},
   "outputs": [
    {
     "name": "stdout",
     "output_type": "stream",
     "text": [
      "RMSE: 6.123842\n",
      "r2: 0.999303\n"
     ]
    }
   ],
   "source": [
    "from pyspark.ml.evaluation import RegressionEvaluator\n",
    "\n",
    "try :\n",
    "    # training Summary\n",
    "    trainingSummary=regressor.summary\n",
    "    print(\"RMSE: %f\"%trainingSummary.rootMeanSquaredError)\n",
    "    print(\"r2: %f\" % trainingSummary.r2)\n",
    "except:\n",
    "    print(\" Model Test have a Problem\")"
   ]
  },
  {
   "cell_type": "markdown",
   "metadata": {},
   "source": [
    "# Saving model "
   ]
  },
  {
   "cell_type": "code",
   "execution_count": 125,
   "metadata": {},
   "outputs": [
    {
     "name": "stdout",
     "output_type": "stream",
     "text": [
      "Succesfully Saved\n"
     ]
    }
   ],
   "source": [
    "regressor.save(\"StockPrice_Model\")\n",
    "print(\"Succesfully Saved\")"
   ]
  },
  {
   "cell_type": "code",
   "execution_count": 1,
   "metadata": {},
   "outputs": [],
   "source": [
    "#import pickle\n",
    "#Pkl_Filename = \"Regressor_Model\"\n",
    "#with open(Pkl_Filename, 'wb') as f:\n",
    " #   pickle.dump(regressor, f)"
   ]
  },
  {
   "cell_type": "code",
   "execution_count": null,
   "metadata": {},
   "outputs": [],
   "source": []
  }
 ],
 "metadata": {
  "kernelspec": {
   "display_name": "Python 3",
   "language": "python",
   "name": "python3"
  },
  "language_info": {
   "codemirror_mode": {
    "name": "ipython",
    "version": 3
   },
   "file_extension": ".py",
   "mimetype": "text/x-python",
   "name": "python",
   "nbconvert_exporter": "python",
   "pygments_lexer": "ipython3",
   "version": "3.6.9"
  }
 },
 "nbformat": 4,
 "nbformat_minor": 4
}
