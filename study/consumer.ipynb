{
 "cells": [
  {
   "cell_type": "markdown",
   "metadata": {},
   "source": [
    "# Importing  necessary modules"
   ]
  },
  {
   "cell_type": "code",
   "execution_count": 26,
   "metadata": {},
   "outputs": [],
   "source": [
    "from time import sleep\n",
    "from datetime import datetime\n",
    "from kafka import KafkaConsumer\n",
    "import pandas as pd\n",
    "from alpha_vantage.timeseries import TimeSeries\n",
    "import sys\n",
    "import random\n",
    "import json\n",
    "from json import loads"
   ]
  },
  {
   "cell_type": "code",
   "execution_count": 27,
   "metadata": {},
   "outputs": [],
   "source": [
    "from pyspark import SparkContext\n",
    "from pyspark.sql import SQLContext\n",
    "from pyspark.ml.feature import VectorAssembler\n",
    "from pyspark.ml.regression import LinearRegressionModel\n",
    "from pyspark.sql.types import DoubleType"
   ]
  },
  {
   "cell_type": "markdown",
   "metadata": {},
   "source": [
    "# Declearing spark context"
   ]
  },
  {
   "cell_type": "code",
   "execution_count": 28,
   "metadata": {},
   "outputs": [],
   "source": [
    "sc.stop()\n",
    "sc= SparkContext()\n",
    "sqlContext = SQLContext(sc)"
   ]
  },
  {
   "cell_type": "code",
   "execution_count": 29,
   "metadata": {},
   "outputs": [],
   "source": [
    "\n",
    "#vectorAssembler = VectorAssembler(inputCols=['open', 'high', 'low'], outputCol='features')\n",
    "Path =  \"StockPrice_Model\"\n",
    "load_model = LinearRegressionModel.load(Path)"
   ]
  },
  {
   "cell_type": "code",
   "execution_count": 31,
   "metadata": {},
   "outputs": [],
   "source": [
    "try:\n",
    "    consumer = KafkaConsumer('stock',bootstrap_servers=['localhost:9092'])\n",
    "except:\n",
    "    print('error')"
   ]
  },
  {
   "cell_type": "markdown",
   "metadata": {},
   "source": [
    "# predicting values by using model "
   ]
  },
  {
   "cell_type": "code",
   "execution_count": 32,
   "metadata": {},
   "outputs": [
    {
     "name": "stdout",
     "output_type": "stream",
     "text": [
      "+------------------+------+--------------------+\n",
      "|        prediction| Close|            features|\n",
      "+------------------+------+--------------------+\n",
      "|2534.0660651770945|1430.5|[1429.24,1430.425...|\n",
      "+------------------+------+--------------------+\n",
      "\n",
      "b'2020-06-05 10:25:00'\n"
     ]
    },
    {
     "data": {
      "text/plain": [
       "(2534.0660651770945, 1430.5, '2020-06-05 10:25:00')"
      ]
     },
     "execution_count": 32,
     "metadata": {},
     "output_type": "execute_result"
    }
   ],
   "source": [
    "def stock_prediction(load_model):\n",
    "    for msg in consumer:\n",
    "        res = json.loads(msg.value.decode('utf-8'))\n",
    "        dlist = list(res.values())\n",
    "        df = pd.DataFrame([dlist], columns=['Open', 'Close', 'Volume', 'High', 'Low'])\n",
    "        df=df.astype(float)\n",
    "        spark_df = sqlContext.createDataFrame(df)\n",
    "        vectorAssembler = VectorAssembler(inputCols=['Open', 'High', 'Low'], outputCol='features')\n",
    "        vectorAssembler = VectorAssembler(inputCols=['Open', 'High', 'Low'], outputCol='features')\n",
    "        df_vect = vectorAssembler.transform(spark_df)\n",
    "        df_vect_features = df_vect.select(['features','Close'])\n",
    "        predictions = load_model.transform(df_vect_features)\n",
    "        predictions.select(\"prediction\", \"Close\", \"features\").show()\n",
    "        predict_value = predictions.select('prediction').collect()[0].__getitem__(\"prediction\")\n",
    "        close_value = predictions.select('Close').collect()[0].__getitem__('Close')\n",
    "        print(msg.key)\n",
    "        date_time = msg.key.decode('utf-8')\n",
    "        return predict_value, close_value, date_time\n",
    "\n",
    "stock_prediction(load_model)"
   ]
  },
  {
   "cell_type": "code",
   "execution_count": null,
   "metadata": {},
   "outputs": [],
   "source": []
  }
 ],
 "metadata": {
  "kernelspec": {
   "display_name": "Python 3",
   "language": "python",
   "name": "python3"
  },
  "language_info": {
   "codemirror_mode": {
    "name": "ipython",
    "version": 3
   },
   "file_extension": ".py",
   "mimetype": "text/x-python",
   "name": "python",
   "nbconvert_exporter": "python",
   "pygments_lexer": "ipython3",
   "version": "3.6.9"
  }
 },
 "nbformat": 4,
 "nbformat_minor": 4
}
